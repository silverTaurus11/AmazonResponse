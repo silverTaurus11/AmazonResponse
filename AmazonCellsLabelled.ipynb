{
  "nbformat": 4,
  "nbformat_minor": 0,
  "metadata": {
    "colab": {
      "name": "AmazonCellsLabelled.ipynb",
      "provenance": []
    },
    "kernelspec": {
      "name": "python3",
      "display_name": "Python 3"
    }
  },
  "cells": [
    {
      "cell_type": "code",
      "metadata": {
        "id": "ioDO69EF0HZH",
        "outputId": "5cbaacb0-dec5-4433-d0c3-1f5909ec0f2a",
        "colab": {
          "base_uri": "https://localhost:8080/"
        }
      },
      "source": [
        "import tensorflow as tf\n",
        "print(tf.__version__)"
      ],
      "execution_count": 116,
      "outputs": [
        {
          "output_type": "stream",
          "text": [
            "2.3.0\n"
          ],
          "name": "stdout"
        }
      ]
    },
    {
      "cell_type": "code",
      "metadata": {
        "id": "f7z3RliO0-6f",
        "outputId": "a33f0a51-d092-46ce-f006-c15e72f15d02",
        "colab": {
          "base_uri": "https://localhost:8080/",
          "height": 424
        }
      },
      "source": [
        "#tujuan : mengkategorian komen positif dan negatif berdasarkan kalimat\n",
        "\n",
        "import pandas as pd\n",
        "df = pd.read_csv('amazon_cells_labelled.txt', names=['sentence', 'label'], sep='\\t')\n",
        "df"
      ],
      "execution_count": 117,
      "outputs": [
        {
          "output_type": "execute_result",
          "data": {
            "text/html": [
              "<div>\n",
              "<style scoped>\n",
              "    .dataframe tbody tr th:only-of-type {\n",
              "        vertical-align: middle;\n",
              "    }\n",
              "\n",
              "    .dataframe tbody tr th {\n",
              "        vertical-align: top;\n",
              "    }\n",
              "\n",
              "    .dataframe thead th {\n",
              "        text-align: right;\n",
              "    }\n",
              "</style>\n",
              "<table border=\"1\" class=\"dataframe\">\n",
              "  <thead>\n",
              "    <tr style=\"text-align: right;\">\n",
              "      <th></th>\n",
              "      <th>sentence</th>\n",
              "      <th>label</th>\n",
              "    </tr>\n",
              "  </thead>\n",
              "  <tbody>\n",
              "    <tr>\n",
              "      <th>0</th>\n",
              "      <td>So there is no way for me to plug it in here i...</td>\n",
              "      <td>0</td>\n",
              "    </tr>\n",
              "    <tr>\n",
              "      <th>1</th>\n",
              "      <td>Good case, Excellent value.</td>\n",
              "      <td>1</td>\n",
              "    </tr>\n",
              "    <tr>\n",
              "      <th>2</th>\n",
              "      <td>Great for the jawbone.</td>\n",
              "      <td>1</td>\n",
              "    </tr>\n",
              "    <tr>\n",
              "      <th>3</th>\n",
              "      <td>Tied to charger for conversations lasting more...</td>\n",
              "      <td>0</td>\n",
              "    </tr>\n",
              "    <tr>\n",
              "      <th>4</th>\n",
              "      <td>The mic is great.</td>\n",
              "      <td>1</td>\n",
              "    </tr>\n",
              "    <tr>\n",
              "      <th>...</th>\n",
              "      <td>...</td>\n",
              "      <td>...</td>\n",
              "    </tr>\n",
              "    <tr>\n",
              "      <th>995</th>\n",
              "      <td>The screen does get smudged easily because it ...</td>\n",
              "      <td>0</td>\n",
              "    </tr>\n",
              "    <tr>\n",
              "      <th>996</th>\n",
              "      <td>What a piece of junk.. I lose more calls on th...</td>\n",
              "      <td>0</td>\n",
              "    </tr>\n",
              "    <tr>\n",
              "      <th>997</th>\n",
              "      <td>Item Does Not Match Picture.</td>\n",
              "      <td>0</td>\n",
              "    </tr>\n",
              "    <tr>\n",
              "      <th>998</th>\n",
              "      <td>The only thing that disappoint me is the infra...</td>\n",
              "      <td>0</td>\n",
              "    </tr>\n",
              "    <tr>\n",
              "      <th>999</th>\n",
              "      <td>You can not answer calls with the unit, never ...</td>\n",
              "      <td>0</td>\n",
              "    </tr>\n",
              "  </tbody>\n",
              "</table>\n",
              "<p>1000 rows × 2 columns</p>\n",
              "</div>"
            ],
            "text/plain": [
              "                                              sentence  label\n",
              "0    So there is no way for me to plug it in here i...      0\n",
              "1                          Good case, Excellent value.      1\n",
              "2                               Great for the jawbone.      1\n",
              "3    Tied to charger for conversations lasting more...      0\n",
              "4                                    The mic is great.      1\n",
              "..                                                 ...    ...\n",
              "995  The screen does get smudged easily because it ...      0\n",
              "996  What a piece of junk.. I lose more calls on th...      0\n",
              "997                       Item Does Not Match Picture.      0\n",
              "998  The only thing that disappoint me is the infra...      0\n",
              "999  You can not answer calls with the unit, never ...      0\n",
              "\n",
              "[1000 rows x 2 columns]"
            ]
          },
          "metadata": {
            "tags": []
          },
          "execution_count": 117
        }
      ]
    },
    {
      "cell_type": "code",
      "metadata": {
        "id": "CA_KMi1r1kji"
      },
      "source": [
        "#membagi data ke training data dan validation data\n",
        "\n",
        "from sklearn.model_selection import train_test_split\n",
        "sentence = df['sentence'].values\n",
        "label = df['label'].values\n",
        "sentence_train, sentence_test, label_train, label_test = train_test_split(sentence, label, test_size=0.2)"
      ],
      "execution_count": 118,
      "outputs": []
    },
    {
      "cell_type": "code",
      "metadata": {
        "id": "_wKlzy7v1-xn"
      },
      "source": [
        "#proses tokonizer\n",
        "\n",
        "from tensorflow.keras.preprocessing.text import Tokenizer\n",
        "from tensorflow.keras.preprocessing.sequence import pad_sequences\n",
        "     \n",
        "tokenizer = Tokenizer(num_words=500, oov_token='x')\n",
        "tokenizer.fit_on_texts(sentence_train) \n",
        "tokenizer.fit_on_texts(sentence_test)\n",
        "     \n",
        "sequence_sentence_train = tokenizer.texts_to_sequences(sentence_train)\n",
        "sequence_sentence_test = tokenizer.texts_to_sequences(sentence_test)\n",
        "     \n",
        "padded_sentence_train = pad_sequences(sequence_sentence_train) \n",
        "padded_sentence_test = pad_sequences(sequence_sentence_test)"
      ],
      "execution_count": 119,
      "outputs": []
    },
    {
      "cell_type": "code",
      "metadata": {
        "id": "wFZMVwXs5icJ"
      },
      "source": [
        "#membuat sistem callback\n",
        "\n",
        "class myCallback(tf.keras.callbacks.Callback):\n",
        "    def on_epoch_end(self, epoch, logs={}):\n",
        "        if(logs.get('accuracy')>0.90):\n",
        "          print(\"\\nAkurasi telah mencapai > 90%!\")\n",
        "          self.model.stop_training = True\n",
        "callbacks = myCallback()"
      ],
      "execution_count": 120,
      "outputs": []
    },
    {
      "cell_type": "code",
      "metadata": {
        "id": "CE4ah97b2ceI"
      },
      "source": [
        "#membuat model\n",
        "\n",
        "import tensorflow as tf\n",
        "from tensorflow.keras import layers\n",
        "\n",
        "model = tf.keras.Sequential([\n",
        "        layers.Embedding(500, 16),\n",
        "        layers.LSTM(128),\n",
        "        layers.Dropout(0.2),\n",
        "        layers.Dense(64, activation='relu'),\n",
        "        layers.Dropout(0.5),\n",
        "        layers.Dense(1, activation='sigmoid')\n",
        "    ])\n",
        "model.compile(loss='binary_crossentropy',optimizer='adam',metrics=['accuracy'])"
      ],
      "execution_count": 121,
      "outputs": []
    },
    {
      "cell_type": "code",
      "metadata": {
        "id": "XymqacFR5s75",
        "outputId": "606127bd-364a-485e-a741-e7643a8fe9e0",
        "colab": {
          "base_uri": "https://localhost:8080/"
        }
      },
      "source": [
        "model.summary()"
      ],
      "execution_count": 122,
      "outputs": [
        {
          "output_type": "stream",
          "text": [
            "Model: \"sequential_25\"\n",
            "_________________________________________________________________\n",
            "Layer (type)                 Output Shape              Param #   \n",
            "=================================================================\n",
            "embedding_25 (Embedding)     (None, None, 16)          8000      \n",
            "_________________________________________________________________\n",
            "lstm_29 (LSTM)               (None, 128)               74240     \n",
            "_________________________________________________________________\n",
            "dropout_35 (Dropout)         (None, 128)               0         \n",
            "_________________________________________________________________\n",
            "dense_53 (Dense)             (None, 64)                8256      \n",
            "_________________________________________________________________\n",
            "dropout_36 (Dropout)         (None, 64)                0         \n",
            "_________________________________________________________________\n",
            "dense_54 (Dense)             (None, 1)                 65        \n",
            "=================================================================\n",
            "Total params: 90,561\n",
            "Trainable params: 90,561\n",
            "Non-trainable params: 0\n",
            "_________________________________________________________________\n"
          ],
          "name": "stdout"
        }
      ]
    },
    {
      "cell_type": "code",
      "metadata": {
        "id": "4bMoHAVa2mIB",
        "outputId": "2268fefb-2b1a-487f-bcaf-19bf6c1e1bc4",
        "colab": {
          "base_uri": "https://localhost:8080/"
        }
      },
      "source": [
        "num_epochs = 30\n",
        "history = model.fit(padded_sentence_train, label_train, epochs=num_epochs, validation_data=(padded_sentence_test, label_test), verbose=2, callbacks=[callbacks])"
      ],
      "execution_count": 123,
      "outputs": [
        {
          "output_type": "stream",
          "text": [
            "Epoch 1/30\n",
            "25/25 - 1s - loss: 0.6928 - accuracy: 0.5025 - val_loss: 0.6931 - val_accuracy: 0.4700\n",
            "Epoch 2/30\n",
            "25/25 - 1s - loss: 0.6827 - accuracy: 0.5650 - val_loss: 0.6693 - val_accuracy: 0.5750\n",
            "Epoch 3/30\n",
            "25/25 - 1s - loss: 0.5935 - accuracy: 0.7725 - val_loss: 0.5390 - val_accuracy: 0.7600\n",
            "Epoch 4/30\n",
            "25/25 - 1s - loss: 0.4302 - accuracy: 0.8325 - val_loss: 0.5123 - val_accuracy: 0.7650\n",
            "Epoch 5/30\n",
            "25/25 - 1s - loss: 0.3032 - accuracy: 0.8888 - val_loss: 0.4866 - val_accuracy: 0.8000\n",
            "Epoch 6/30\n",
            "\n",
            "Akurasi telah mencapai > 90%!\n",
            "25/25 - 1s - loss: 0.2356 - accuracy: 0.9162 - val_loss: 0.5105 - val_accuracy: 0.8000\n"
          ],
          "name": "stdout"
        }
      ]
    },
    {
      "cell_type": "code",
      "metadata": {
        "id": "bQRTJA9S4_sL",
        "outputId": "b002505d-2dd5-4e21-cb0b-33218046445d",
        "colab": {
          "base_uri": "https://localhost:8080/",
          "height": 573
        }
      },
      "source": [
        "# visualisasi hasil data training (Plot accuracy & loss model)\n",
        "\n",
        "import numpy as np\n",
        "from google.colab import files\n",
        "from keras.preprocessing import image\n",
        "import matplotlib.pyplot as plt\n",
        "import matplotlib.image as mpimg\n",
        "import matplotlib.pyplot as plt\n",
        "import matplotlib.image as mpimg\n",
        "%matplotlib inline\n",
        " \n",
        "\n",
        "acc = history.history['accuracy']\n",
        "val_acc = history.history['val_accuracy']\n",
        "\n",
        "loss = history.history['loss']\n",
        "val_loss = history.history['val_loss']\n",
        "\n",
        "plt.plot(acc, label='Training Acc')\n",
        "plt.plot(val_acc, label='Validation Loss')\n",
        "plt.title('Model accuracy')\n",
        "plt.ylabel('Accuracy')\n",
        "plt.xlabel('Epoch')\n",
        "plt.legend(['Train'], loc='lower right')\n",
        "plt.show()\n",
        "\n",
        "plt.plot(loss, label='Training Loss')\n",
        "plt.plot(val_loss, label='Validation Loss')\n",
        "plt.title('Model loss')\n",
        "plt.ylabel('Loss')\n",
        "plt.xlabel('Epoch')\n",
        "plt.legend(['Train'], loc='upper right')\n",
        "plt.show()"
      ],
      "execution_count": 124,
      "outputs": [
        {
          "output_type": "display_data",
          "data": {
            "image/png": "[encoded data removed]",
            "text/plain": [
              "<Figure size 432x288 with 1 Axes>"
            ]
          },
          "metadata": {
            "tags": [],
            "needs_background": "light"
          }
        },
        {
          "output_type": "display_data",
          "data": {
            "image/png": "[encoded data removed]",
            "text/plain": [
              "<Figure size 432x288 with 1 Axes>"
            ]
          },
          "metadata": {
            "tags": [],
            "needs_background": "light"
          }
        }
      ]
    }
  ]
}